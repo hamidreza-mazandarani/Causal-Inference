{
 "cells": [
  {
   "cell_type": "markdown",
   "id": "4353ae62",
   "metadata": {},
   "source": [
    "# Some practice on Causal Inference\n",
    "\n",
    "source: https://github.com/cerquide/propensity_score_talk"
   ]
  },
  {
   "cell_type": "code",
   "execution_count": 1,
   "id": "8665daeb",
   "metadata": {},
   "outputs": [],
   "source": [
    "import numpy as np\n",
    "import pandas as pd\n",
    "import matplotlib.pyplot as plt\n",
    "import networkx as nx"
   ]
  },
  {
   "cell_type": "code",
   "execution_count": 2,
   "id": "82dbb804",
   "metadata": {
    "scrolled": true
   },
   "outputs": [
    {
     "data": {
      "text/html": [
       "<div>\n",
       "<style scoped>\n",
       "    .dataframe tbody tr th:only-of-type {\n",
       "        vertical-align: middle;\n",
       "    }\n",
       "\n",
       "    .dataframe tbody tr th {\n",
       "        vertical-align: top;\n",
       "    }\n",
       "\n",
       "    .dataframe thead th {\n",
       "        text-align: right;\n",
       "    }\n",
       "</style>\n",
       "<table border=\"1\" class=\"dataframe\">\n",
       "  <thead>\n",
       "    <tr style=\"text-align: right;\">\n",
       "      <th></th>\n",
       "      <th>smoker</th>\n",
       "      <th>treatment</th>\n",
       "      <th>alive</th>\n",
       "    </tr>\n",
       "  </thead>\n",
       "  <tbody>\n",
       "    <tr>\n",
       "      <th>0</th>\n",
       "      <td>0</td>\n",
       "      <td>0</td>\n",
       "      <td>1</td>\n",
       "    </tr>\n",
       "    <tr>\n",
       "      <th>1</th>\n",
       "      <td>1</td>\n",
       "      <td>1</td>\n",
       "      <td>1</td>\n",
       "    </tr>\n",
       "    <tr>\n",
       "      <th>2</th>\n",
       "      <td>1</td>\n",
       "      <td>1</td>\n",
       "      <td>1</td>\n",
       "    </tr>\n",
       "    <tr>\n",
       "      <th>3</th>\n",
       "      <td>0</td>\n",
       "      <td>1</td>\n",
       "      <td>1</td>\n",
       "    </tr>\n",
       "    <tr>\n",
       "      <th>4</th>\n",
       "      <td>0</td>\n",
       "      <td>0</td>\n",
       "      <td>1</td>\n",
       "    </tr>\n",
       "    <tr>\n",
       "      <th>...</th>\n",
       "      <td>...</td>\n",
       "      <td>...</td>\n",
       "      <td>...</td>\n",
       "    </tr>\n",
       "    <tr>\n",
       "      <th>230689</th>\n",
       "      <td>0</td>\n",
       "      <td>1</td>\n",
       "      <td>1</td>\n",
       "    </tr>\n",
       "    <tr>\n",
       "      <th>230690</th>\n",
       "      <td>0</td>\n",
       "      <td>0</td>\n",
       "      <td>1</td>\n",
       "    </tr>\n",
       "    <tr>\n",
       "      <th>230691</th>\n",
       "      <td>1</td>\n",
       "      <td>1</td>\n",
       "      <td>0</td>\n",
       "    </tr>\n",
       "    <tr>\n",
       "      <th>230692</th>\n",
       "      <td>0</td>\n",
       "      <td>0</td>\n",
       "      <td>0</td>\n",
       "    </tr>\n",
       "    <tr>\n",
       "      <th>230693</th>\n",
       "      <td>0</td>\n",
       "      <td>0</td>\n",
       "      <td>1</td>\n",
       "    </tr>\n",
       "  </tbody>\n",
       "</table>\n",
       "<p>230694 rows × 3 columns</p>\n",
       "</div>"
      ],
      "text/plain": [
       "        smoker  treatment  alive\n",
       "0            0          0      1\n",
       "1            1          1      1\n",
       "2            1          1      1\n",
       "3            0          1      1\n",
       "4            0          0      1\n",
       "...        ...        ...    ...\n",
       "230689       0          1      1\n",
       "230690       0          0      1\n",
       "230691       1          1      0\n",
       "230692       0          0      0\n",
       "230693       0          0      1\n",
       "\n",
       "[230694 rows x 3 columns]"
      ]
     },
     "execution_count": 2,
     "metadata": {},
     "output_type": "execute_result"
    }
   ],
   "source": [
    "df = pd.read_csv(\"sample.csv\").fillna(0)\n",
    "df['alive'] = (1 - df['dead']).astype(int)\n",
    "df.drop(columns=['dead'], inplace=True)\n",
    "df"
   ]
  },
  {
   "cell_type": "code",
   "execution_count": 3,
   "id": "7f491e13",
   "metadata": {},
   "outputs": [
    {
     "data": {
      "text/plain": [
       "<AxesSubplot:ylabel='alive'>"
      ]
     },
     "execution_count": 3,
     "metadata": {},
     "output_type": "execute_result"
    },
    {
     "data": {
      "image/png": "[encoded data removed]",
      "text/plain": [
       "<Figure size 360x360 with 1 Axes>"
      ]
     },
     "metadata": {},
     "output_type": "display_data"
    }
   ],
   "source": [
    "df_grouped_by_treatment = df.groupby(by='treatment').mean()\n",
    "df_grouped_by_treatment.index = ['Not Treated', 'Treated']\n",
    "df_grouped_by_treatment.plot.pie(y='alive', figsize=(5, 5))\n"
   ]
  },
  {
   "cell_type": "code",
   "execution_count": 4,
   "id": "4f9031ef",
   "metadata": {},
   "outputs": [
    {
     "data": {
      "image/png": "[encoded data removed]",
      "text/plain": [
       "<Figure size 432x288 with 1 Axes>"
      ]
     },
     "metadata": {},
     "output_type": "display_data"
    }
   ],
   "source": [
    "G = nx.DiGraph([(0, 1), (2, 0), (2, 1)])\n",
    "\n",
    "labeldict = {0: 'Treated', 1:'Alive', 2: 'Smoker'}\n",
    "\n",
    "# group nodes by column\n",
    "left_nodes = [0]\n",
    "middle_nodes = [2]\n",
    "right_nodes = [1]\n",
    "\n",
    "options = {\n",
    "    \"font_size\": 12,\n",
    "    \"node_size\": 3000,\n",
    "    \"node_color\": \"white\",\n",
    "    \"edgecolors\": \"black\",\n",
    "    \"linewidths\": 2,\n",
    "    \"width\": 2,\n",
    "}\n",
    "\n",
    "# set the position according to column (x-coord)\n",
    "pos = {0: (0, 0), 2: (1, 0.01), 1: (2, 0)}\n",
    "\n",
    "nx.draw_networkx(G, pos, labels=labeldict, with_labels = True, **options)\n",
    "\n",
    "# Set margins for the axes so that nodes aren't clipped\n",
    "ax = plt.gca()\n",
    "ax.margins(0.20)\n",
    "plt.axis(\"off\")\n",
    "plt.show()"
   ]
  },
  {
   "cell_type": "code",
   "execution_count": 5,
   "id": "96d5b8a0",
   "metadata": {},
   "outputs": [],
   "source": [
    "def average_treatment_effect(df, target='alive'):\n",
    "    df_treated = df[df[\"treatment\"]==1]\n",
    "    df_not_treated = df[df[\"treatment\"]==0]\n",
    "\n",
    "    return (df_treated.mean() - df_not_treated.mean())[target]"
   ]
  },
  {
   "cell_type": "code",
   "execution_count": 6,
   "id": "94825a28",
   "metadata": {},
   "outputs": [
    {
     "data": {
      "text/plain": [
       "-8.484338460046793"
      ]
     },
     "execution_count": 6,
     "metadata": {},
     "output_type": "execute_result"
    }
   ],
   "source": [
    "# ATE without considering confounding variables\n",
    "\n",
    "average_treatment_effect(df)*100"
   ]
  },
  {
   "cell_type": "code",
   "execution_count": 7,
   "id": "aa7874b6",
   "metadata": {},
   "outputs": [
    {
     "data": {
      "text/plain": [
       "(30.346815914873847, -1.239549399325568, 8.27603928788013)"
      ]
     },
     "execution_count": 7,
     "metadata": {},
     "output_type": "execute_result"
    }
   ],
   "source": [
    "# ATE conditioned on confounding variables\n",
    "\n",
    "df_smoker = df[df[\"smoker\"]==1]\n",
    "df_non_smoker = df[df[\"smoker\"]==0]\n",
    "\n",
    "ratio_of_smokers = len(df[df[\"smoker\"]==1]) / len(df)\n",
    "\n",
    "ATE_smokers = average_treatment_effect(df_smoker)\n",
    "ATE_non_smokers = average_treatment_effect(df_non_smoker)\n",
    "      \n",
    "ATE = (ratio_of_smokers * ATE_smokers) + ((1-ratio_of_smokers) * ATE_non_smokers)\n",
    "\n",
    "ATE_smokers*100, ATE_non_smokers*100, ATE*100"
   ]
  },
  {
   "cell_type": "code",
   "execution_count": null,
   "id": "e5fe79e0",
   "metadata": {},
   "outputs": [],
   "source": []
  }
 ],
 "metadata": {
  "kernelspec": {
   "display_name": "Python 3",
   "language": "python",
   "name": "python3"
  },
  "language_info": {
   "codemirror_mode": {
    "name": "ipython",
    "version": 3
   },
   "file_extension": ".py",
   "mimetype": "text/x-python",
   "name": "python",
   "nbconvert_exporter": "python",
   "pygments_lexer": "ipython3",
   "version": "3.7.3"
  }
 },
 "nbformat": 4,
 "nbformat_minor": 5
}
